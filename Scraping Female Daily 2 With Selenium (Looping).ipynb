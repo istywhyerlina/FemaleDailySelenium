{
 "cells": [
  {
   "cell_type": "markdown",
   "metadata": {},
   "source": [
    "This time we will correct the latest code version of the Female Daily web scrapping. In the first attempt I tried to scrape all the information with find_all in the first place. It implies that i can scrape information that is filled by \"ALL\" user. That's  because the program arange the record per element automatically as the order of the record itself. It means that if we have 1 user that doesn't fill 1 information it will disintegrate the order of the record.\n",
    "\n",
    "This new version of code, it looks up the detail info per user first, so we get the informations per record correct. I also will return \"None\" or Missing value if the user didn't fill one or more element. "
   ]
  },
  {
   "cell_type": "markdown",
   "metadata": {},
   "source": [
    "# Import Modules"
   ]
  },
  {
   "cell_type": "code",
   "execution_count": 33,
   "metadata": {
    "ExecuteTime": {
     "end_time": "2020-05-10T08:37:25.383808Z",
     "start_time": "2020-05-10T08:37:25.376320Z"
    },
    "scrolled": true
   },
   "outputs": [],
   "source": [
    "from bs4 import BeautifulSoup\n",
    "import pandas as pd\n",
    "import re\n",
    "from datetime import datetime\n",
    "\n"
   ]
  },
  {
   "cell_type": "code",
   "execution_count": 34,
   "metadata": {
    "ExecuteTime": {
     "end_time": "2020-05-10T08:37:26.137829Z",
     "start_time": "2020-05-10T08:37:26.128455Z"
    }
   },
   "outputs": [],
   "source": [
    "#dir_path = os.getcwd()\n",
    "startTime = datetime.now()"
   ]
  },
  {
   "cell_type": "markdown",
   "metadata": {},
   "source": [
    "# TO USE SELENIUM"
   ]
  },
  {
   "cell_type": "code",
   "execution_count": 7,
   "metadata": {},
   "outputs": [],
   "source": [
    "#impot module\n",
    "from selenium import webdriver\n",
    "from selenium.webdriver.chrome.options import Options\n",
    "from selenium.webdriver.support.ui import WebDriverWait\n",
    "from selenium.webdriver.support import expected_conditions as EC\n",
    "from selenium.webdriver.common.by import By\n",
    "from selenium.common.exceptions import TimeoutException\n",
    "from bs4 import BeautifulSoup\n",
    "import pandas as pd"
   ]
  },
  {
   "cell_type": "code",
   "execution_count": 8,
   "metadata": {},
   "outputs": [],
   "source": [
    "chrome_options = Options()\n",
    "chrome_options.add_experimental_option(\"prefs\", {\n",
    "  \"download.default_directory\": r\"C:/Users/user/Documents/belajar/\",\n",
    "  \"download.prompt_for_download\": False,\n",
    "  \"download.directory_upgrade\": True,\n",
    "  \"safebrowsing.enabled\": False\n",
    "})"
   ]
  },
  {
   "cell_type": "code",
   "execution_count": 42,
   "metadata": {},
   "outputs": [],
   "source": [
    "uname=[]\n",
    "skintype=[]\n",
    "oiltype=[]\n",
    "shade=[]\n",
    "tone=[]\n",
    "age=[]\n",
    "rating=[]\n",
    "comment=[]\n",
    "date=[]\n",
    "rekomen=[]\n",
    "usage_period=[]\n",
    "purchase_point=[]"
   ]
  },
  {
   "cell_type": "code",
   "execution_count": 43,
   "metadata": {
    "ExecuteTime": {
     "end_time": "2020-05-10T08:26:59.492880Z",
     "start_time": "2020-05-10T08:26:54.567189Z"
    }
   },
   "outputs": [
    {
     "name": "stderr",
     "output_type": "stream",
     "text": [
      "C:\\Users\\istyw\\anaconda3\\lib\\site-packages\\ipykernel_launcher.py:4: DeprecationWarning: use options instead of chrome_options\n",
      "  after removing the cwd from sys.path.\n"
     ]
    }
   ],
   "source": [
    "# Get the url (Page 1)\n",
    "hal = 1\n",
    "url = 'https://reviews.femaledaily.com/products/lips/lipstick/dear-me-beauty/perfect-matte-lip-coat?cat=&cat_id=0&age_range=&skin_type=&skin_tone=&skin_undertone=&hair_texture=&hair_type=&order=newest&page={hal}'.format(hal=hal)\n",
    "driver = webdriver.Chrome(\"C:/Users/istyw/Documents/belajar/Crawling Female Daily with BeautifulSoup/chromedriver.exe\",chrome_options=chrome_options)\n",
    "driver.get(url)"
   ]
  },
  {
   "cell_type": "code",
   "execution_count": 44,
   "metadata": {},
   "outputs": [
    {
     "name": "stdout",
     "output_type": "stream",
     "text": [
      "Last page reached\n"
     ]
    }
   ],
   "source": [
    "while True:\n",
    "    #WebDriverWait(driver, 20).until(EC.element_to_be_clickable((By.XPATH, \"//li[@class='arrow__right']/a\"))))\n",
    "    #WebDriverWait(driver, 10).until(EC.presence_of_element_located((By.XPATH, \"//*[@class='paging']\")))\n",
    "    #How to read more comment\n",
    "    more=driver.find_elements_by_css_selector(\"span[class='read-more']\")\n",
    "    for ele in more:\n",
    "        driver.execute_script(\"arguments[0].click();\", ele)\n",
    "        # Wrangling HTML with BeautifulSoup\n",
    "   \n",
    "\n",
    "    # Wrangling HTML with BeautifulSoup\n",
    "\n",
    "    #Get Detail  info\n",
    "    soup = BeautifulSoup(driver.page_source,'html.parser')\n",
    "    detailinfo=soup.find_all('div',class_='review-detail d-flex')\n",
    "\n",
    "    #Loop to get info per user review\n",
    "\n",
    "    for elem in detailinfo:\n",
    "        #Get username\n",
    "        Username = elem.find('p',class_='username')\n",
    "        uname.append(Username.text)\n",
    "        #Get Skintype \n",
    "        skin = elem.find('p',class_='skin').text\n",
    "\n",
    "        #Parsing skin type\n",
    "        skin2=skin.split(\",\")\n",
    "        skintype.append(skin2)\n",
    "        oiltype.append(skin2[0])\n",
    "        shade.append(skin2[1])\n",
    "        tone.append(skin2[2])\n",
    "        age.append(skin2[3])\n",
    "\n",
    "        #Get rating\n",
    "\n",
    "        star = elem.find('span',class_='cardrv-starlist')\n",
    "        bintang=star.find_all('i',{'class':lambda x: x and \"icon-ic_big_star_full\" in x.split()})\n",
    "        rating.append(len(bintang))\n",
    "\n",
    "        #Get Comment\n",
    "        #PS I Can not click \"Read More\" on the comment section. Is it just me? :(\n",
    "        komen = elem.find('p', class_=\"text-content\")\n",
    "        comment.append(komen.find('span').text)\n",
    "\n",
    "        #Get Date review\n",
    "        daterev=elem.find('p', class_=\"date review-date\")\n",
    "        date.append(daterev.text)\n",
    "\n",
    "        #Get Recommended or not\n",
    "        recinfo=elem.find('p', class_=\"recommend\")\n",
    "        if recinfo == None:\n",
    "            rekomen.append(\"None\")\n",
    "        else :\n",
    "            if \"doesn't recommend\" in recinfo.find('b').text:\n",
    "                rekomen.append(\"Not Recommend\")\n",
    "            else:\n",
    "                rekomen.append(\"Recommend\")\n",
    "\n",
    "        #Get Usage Period and Purchase Point\n",
    "        infowrapper=elem.find('div', class_=\"information-wrapper\")\n",
    "        if infowrapper==None:\n",
    "            usage_period.append(\"None\")\n",
    "            purchase_point.append(\"None\")\n",
    "        else :\n",
    "            info2=infowrapper.find_all('b')\n",
    "            usage_period.append(info2[0].text)\n",
    "            purchase_point.append(info2[1].text)\n",
    "\n",
    "    #How to click Next Page \n",
    "    try :\n",
    "        next=driver.find_element_by_css_selector(\"a[id='id_next_page']\")\n",
    "        driver.execute_script(\"arguments[0].click();\", next)\n",
    "        WebDriverWait(driver, 10).until(EC.presence_of_all_elements_located((By.XPATH, \"//*[@class='review-detail d-flex']\")))\n",
    "    except :\n",
    "        print(\"Last page reached\")\n",
    "        break\n",
    "\n",
    "        #driver.find_element_by_id(\"id_next_page\").click\n",
    "\n",
    "\n",
    "    #I DID IT OMG\n",
    "driver.quit()\n",
    "\n"
   ]
  },
  {
   "cell_type": "code",
   "execution_count": 46,
   "metadata": {},
   "outputs": [
    {
     "name": "stdout",
     "output_type": "stream",
     "text": [
      "['sfindi', 'dahrina_', 'billaaash', 'novi_nrms', 'fifahfia', 'juniatic', 'Dwdiazz', 'sesiliafrr', 'elepsafitri', 'raltavera', 'sfindi', 'dahrina_', 'billaaash', 'novi_nrms', 'fifahfia', 'juniatic', 'Dwdiazz', 'sesiliafrr', 'elepsafitri', 'raltavera', 'sfindi', 'dahrina_', 'billaaash', 'novi_nrms', 'fifahfia', 'juniatic', 'Dwdiazz', 'sesiliafrr', 'elepsafitri', 'raltavera', 'archita97', 'Nahla24', 'isazarine', 'Nuzhiladwislma', 'fatimahauliarahma', 'corona_xx', 'FahiraNisa41', 'yanuarizaim', 'diviayur', 'agkla', 'yusanoktavia', 'titihbaudelaire', 'ihsaniaharimah', 'annychua', 'dresyafp', 'listianahenri', 'jihanfied', 'febbes', 'Sarahdianisa', 'ayularissa', 'sofya99', 'ana_ratna04', 'amadeac', 'dhelfldk', 'ganitri', 'meidianayuliaa', 'arynastarihwana', 'vionnda29', 'nadiaahsani', 'wulandrnovrisa', 'nurulkamila', 'bylana', 'dewiarinii', 'annisaaini04', 'divarahmadina', 'gertjep', 'nrnoktv', 'ririnnhapsari', 'hoki_hoki', 'lasria86', 'zalcakml', 'rarandira', 'amaliaLA_', 'Jeviana', 'rizkyapw', 'anifatimah', 'Sasatansa', 'rosegoldfae', 'stefanyvonne', 'miegoreng', 'cronisier', 'botboteh', 'nblhramadhani', 'Ciel898', 'yasminnaje', 'shabnr', 'adiskalut', 'awelia', 'YosellaJulistia', 'chiquitaec', 'missnatanaello', 'makeuphunter', 'dinaranggrea', 'farahnidaadillah', 'Pamelivia', 'nadyapriliaaa', 'Fatmalia']\n"
     ]
    }
   ],
   "source": [
    "print(uname)"
   ]
  },
  {
   "cell_type": "code",
   "execution_count": 47,
   "metadata": {},
   "outputs": [],
   "source": [
    "df = pd.DataFrame(list(zip(uname, oiltype,shade, tone, age, rating,comment,date,rekomen,usage_period,purchase_point )), \n",
    "               columns =[\"username\", \"oiltype\",\"shade\", \"tone\", \"age\", \"rating\",\"comment\",\"date\",\"recommend\",\"usage_period\",\"purchase_point\"])"
   ]
  },
  {
   "cell_type": "code",
   "execution_count": 48,
   "metadata": {},
   "outputs": [
    {
     "data": {
      "text/plain": [
       "97"
      ]
     },
     "execution_count": 48,
     "metadata": {},
     "output_type": "execute_result"
    }
   ],
   "source": [
    "len(comment)"
   ]
  },
  {
   "cell_type": "code",
   "execution_count": null,
   "metadata": {
    "ExecuteTime": {
     "end_time": "2020-05-10T08:38:02.440082Z",
     "start_time": "2020-05-10T08:38:02.432940Z"
    }
   },
   "outputs": [],
   "source": [
    "print( datetime.now() - startTime)"
   ]
  },
  {
   "cell_type": "code",
   "execution_count": null,
   "metadata": {},
   "outputs": [],
   "source": []
  }
 ],
 "metadata": {
  "kernelspec": {
   "display_name": "Python 3",
   "language": "python",
   "name": "python3"
  },
  "language_info": {
   "codemirror_mode": {
    "name": "ipython",
    "version": 3
   },
   "file_extension": ".py",
   "mimetype": "text/x-python",
   "name": "python",
   "nbconvert_exporter": "python",
   "pygments_lexer": "ipython3",
   "version": "3.7.6"
  }
 },
 "nbformat": 4,
 "nbformat_minor": 2
}
